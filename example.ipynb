{
 "cells": [
  {
   "cell_type": "code",
   "execution_count": 1,
   "metadata": {
    "ExecuteTime": {
     "end_time": "2020-02-02T15:54:54.839086Z",
     "start_time": "2020-02-02T15:54:53.576863Z"
    }
   },
   "outputs": [],
   "source": [
    "from pyscoal import SCOAL\n",
    "\n",
    "import numpy as np\n",
    "from sklearn.linear_model import LinearRegression\n",
    "from sklearn.metrics import mean_squared_error\n",
    "\n",
    "import pandas as pd"
   ]
  },
  {
   "cell_type": "code",
   "execution_count": 2,
   "metadata": {
    "ExecuteTime": {
     "end_time": "2020-02-02T15:54:57.294783Z",
     "start_time": "2020-02-02T15:54:56.873717Z"
    }
   },
   "outputs": [
    {
     "name": "stdout",
     "output_type": "stream",
     "text": [
      "(942, 1681) (942, 26) (1681, 23)\n"
     ]
    }
   ],
   "source": [
    "ratings = np.genfromtxt('ratings.txt')\n",
    "user_features = np.genfromtxt('user_features.txt')\n",
    "user_features = np.genfromtxt('user_features.txt')\n",
    "\n",
    "print(ratings.shape,user_features.shape,item_features.shape)"
   ]
  },
  {
   "cell_type": "code",
   "execution_count": 3,
   "metadata": {
    "ExecuteTime": {
     "end_time": "2020-02-02T15:55:40.371069Z",
     "start_time": "2020-02-02T15:54:58.896925Z"
    }
   },
   "outputs": [
    {
     "name": "stdout",
     "output_type": "stream",
     "text": [
      "iteration      | error         |delta error    |rows changed   |columns changed|elapsed time (s)\n",
      "0              |1.206          |nan            |0              |0              |0              \n",
      "1              |1.039          |0.16658        |411            |589            |6              \n",
      "2              |1.002          |0.03768        |216            |181            |11             \n",
      "3              |0.992          |0.00959        |93             |50             |17             \n",
      "4              |0.991          |0.00130        |30             |17             |23             \n",
      "5              |0.990          |0.00077        |10             |17             |28             \n",
      "6              |0.991          |-0.00094       |9              |12             |35             \n",
      "7              |0.991          |0.00005        |9              |6              |40             \n"
     ]
    }
   ],
   "source": [
    "scoal = SCOAL(n_row_cluster=2,\n",
    "              n_col_cluster=2,\n",
    "              estimator=LinearRegression(),\n",
    "              metric=mean_squared_error,\n",
    "              init='uniform',\n",
    "              random_state=42,\n",
    "              verbose=True)\n",
    "\n",
    "scoal.fit(ratings,user_features,item_features)"
   ]
  },
  {
   "cell_type": "code",
   "execution_count": 4,
   "metadata": {
    "ExecuteTime": {
     "end_time": "2020-02-02T15:55:41.335437Z",
     "start_time": "2020-02-02T15:55:40.375944Z"
    }
   },
   "outputs": [
    {
     "data": {
      "text/plain": [
       "array([[4.        , 3.75938225, 3.57910156, ..., 3.95995903, 2.99609375,\n",
       "        4.0134716 ],\n",
       "       [3.33605766, 3.1223278 , 2.62255859, ..., 3.32290459, 2.03955078,\n",
       "        3.37641716],\n",
       "       [3.74128532, 3.52757072, 3.48583984, ..., 3.72814751, 2.90332031,\n",
       "        3.78166008],\n",
       "       ...,\n",
       "       [5.        , 3.94335938, 3.52197266, ..., 4.19506836, 3.02636719,\n",
       "        4.20629883],\n",
       "       [4.03451347, 3.82076836, 3.89208984, ..., 4.02134514, 3.30908203,\n",
       "        4.07488823],\n",
       "       [3.9272213 , 5.        , 3.640625  , ..., 3.91404915, 3.05712891,\n",
       "        3.9675808 ]])"
      ]
     },
     "execution_count": 4,
     "metadata": {},
     "output_type": "execute_result"
    }
   ],
   "source": [
    "scoal.predict(ratings,user_features,item_features)"
   ]
  }
 ],
 "metadata": {
  "hide_input": false,
  "kernelspec": {
   "display_name": "Python 3",
   "language": "python",
   "name": "python3"
  },
  "language_info": {
   "codemirror_mode": {
    "name": "ipython",
    "version": 3
   },
   "file_extension": ".py",
   "mimetype": "text/x-python",
   "name": "python",
   "nbconvert_exporter": "python",
   "pygments_lexer": "ipython3",
   "version": "3.7.3"
  },
  "toc": {
   "base_numbering": 1,
   "nav_menu": {},
   "number_sections": true,
   "sideBar": true,
   "skip_h1_title": false,
   "title_cell": "Table of Contents",
   "title_sidebar": "Contents",
   "toc_cell": false,
   "toc_position": {},
   "toc_section_display": true,
   "toc_window_display": false
  }
 },
 "nbformat": 4,
 "nbformat_minor": 2
}
