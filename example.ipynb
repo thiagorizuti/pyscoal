{
 "cells": [
  {
   "cell_type": "code",
   "execution_count": 1,
   "metadata": {
    "ExecuteTime": {
     "end_time": "2020-07-12T16:15:35.500453Z",
     "start_time": "2020-07-12T16:15:35.001354Z"
    }
   },
   "outputs": [],
   "source": [
    "from pyscoal import SCOAL, MSCOAL\n",
    "\n",
    "import numpy as np\n",
    "from sklearn.linear_model import LinearRegression\n",
    "from sklearn.metrics import mean_squared_error"
   ]
  },
  {
   "cell_type": "code",
   "execution_count": 2,
   "metadata": {
    "ExecuteTime": {
     "end_time": "2020-02-02T15:54:57.294783Z",
     "start_time": "2020-02-02T15:54:56.873717Z"
    }
   },
   "outputs": [
    {
     "name": "stdout",
     "output_type": "stream",
     "text": [
      "(942, 1681) (942, 26) (1681, 23)\n"
     ]
    }
   ],
   "source": [
    "ratings = np.genfromtxt('ratings.txt')\n",
    "user_features = np.genfromtxt('user_features.txt')\n",
    "user_features = np.genfromtxt('user_features.txt')\n",
    "\n",
    "print(ratings.shape,user_features.shape,item_features.shape)"
   ]
  },
  {
   "cell_type": "code",
   "execution_count": 3,
   "metadata": {
    "ExecuteTime": {
     "end_time": "2020-07-12T16:17:23.710305Z",
     "start_time": "2020-07-12T16:15:41.832892Z"
    }
   },
   "outputs": [
    {
     "name": "stdout",
     "output_type": "stream",
     "text": [
      "iteration      | score         |delta score    |rows changed   |columns changed|elapsed time (s)\n",
      "0              |0.9779         |nan            |0              |0              |0              \n",
      "1              |0.8965         |0.0814         |457            |761            |9              \n",
      "2              |0.8820         |0.0145         |101            |433            |17             \n",
      "3              |0.8767         |0.0053         |37             |150            |24             \n",
      "4              |0.8760         |0.0007         |17             |121            |32             \n",
      "5              |0.8758         |0.0001         |17             |59             |40             \n",
      "6              |0.8751         |0.0008         |8              |39             |48             \n",
      "7              |0.8757         |-0.0006        |10             |33             |55             \n",
      "8              |0.8753         |0.0005         |8              |37             |61             \n",
      "9              |0.8765         |-0.0012        |6              |23             |68             \n",
      "10             |0.8757         |0.0008         |3              |40             |74             \n",
      "11             |0.8753         |0.0003         |10             |22             |81             \n",
      "12             |0.8756         |-0.0002        |1              |20             |87             \n",
      "13             |0.8751         |0.0005         |8              |14             |95             \n",
      "14             |0.8750         |0.0000         |2              |26             |101            \n"
     ]
    }
   ],
   "source": [
    "scoal = SCOAL(n_row_clusters=2,\n",
    "              n_col_clusters=2,\n",
    "              estimator=LinearRegression(),\n",
    "              scoring=mean_squared_error,\n",
    "              verbose=True)\n",
    "\n",
    "scoal.fit(ratings,user_features,item_features)"
   ]
  },
  {
   "cell_type": "code",
   "execution_count": 4,
   "metadata": {
    "ExecuteTime": {
     "end_time": "2020-07-12T16:31:41.026415Z",
     "start_time": "2020-07-12T16:17:23.721683Z"
    }
   },
   "outputs": [
    {
     "name": "stdout",
     "output_type": "stream",
     "text": [
      "iteration      | score         |delta score    |n row clusters |n col clusters |elapsed time (s)\n",
      "0              |0.9797         |nan            |1              |1              |0              \n",
      "1              |0.9067         |0.0729         |2              |1              |406            \n",
      "2              |0.9067         |0.0000         |2              |1              |838            \n"
     ]
    }
   ],
   "source": [
    "scoal = MSCOAL(estimator=LinearRegression(),\n",
    "              scoring=mean_squared_error,\n",
    "              verbose=True)\n",
    "\n",
    "scoal.fit(ratings,user_features,item_features)"
   ]
  }
 ],
 "metadata": {
  "hide_input": false,
  "kernelspec": {
   "display_name": "Python 3",
   "language": "python",
   "name": "python3"
  },
  "language_info": {
   "codemirror_mode": {
    "name": "ipython",
    "version": 3
   },
   "file_extension": ".py",
   "mimetype": "text/x-python",
   "name": "python",
   "nbconvert_exporter": "python",
   "pygments_lexer": "ipython3",
   "version": "3.7.3"
  },
  "toc": {
   "base_numbering": 1,
   "nav_menu": {},
   "number_sections": true,
   "sideBar": true,
   "skip_h1_title": false,
   "title_cell": "Table of Contents",
   "title_sidebar": "Contents",
   "toc_cell": false,
   "toc_position": {},
   "toc_section_display": true,
   "toc_window_display": false
  }
 },
 "nbformat": 4,
 "nbformat_minor": 2
}
